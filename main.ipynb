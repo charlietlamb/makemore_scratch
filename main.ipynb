{
 "cells": [
  {
   "cell_type": "code",
   "id": "initial_id",
   "metadata": {
    "collapsed": true,
    "ExecuteTime": {
     "end_time": "2024-10-08T20:58:52.752096Z",
     "start_time": "2024-10-08T20:58:52.745428Z"
    }
   },
   "source": [
    "# Get names from txt file\n",
    "with open('names.txt') as file:\n",
    "    content = file.read()\n",
    "names = content.split('\\n')\n"
   ],
   "outputs": [],
   "execution_count": 4
  },
  {
   "metadata": {
    "ExecuteTime": {
     "end_time": "2024-10-08T21:12:07.587767Z",
     "start_time": "2024-10-08T21:12:07.524834Z"
    }
   },
   "cell_type": "code",
   "source": [
    "# Get input data\n",
    "input_length = 8\n",
    "x = []\n",
    "y = []\n",
    "for name in names:\n",
    "    word = \".\" * input_length\n",
    "    name = name + \".\"\n",
    "    for i in range(len(name)-1):\n",
    "        word = word[1:] + name[i] \n",
    "        x.append(word)\n",
    "        y.append(name[i+1])"
   ],
   "id": "22f6a9abaebb8fd7",
   "outputs": [],
   "execution_count": 10
  },
  {
   "metadata": {},
   "cell_type": "markdown",
   "source": "    ",
   "id": "fb1af8c104881ba9"
  }
 ],
 "metadata": {
  "kernelspec": {
   "display_name": "Python 3",
   "language": "python",
   "name": "python3"
  },
  "language_info": {
   "codemirror_mode": {
    "name": "ipython",
    "version": 2
   },
   "file_extension": ".py",
   "mimetype": "text/x-python",
   "name": "python",
   "nbconvert_exporter": "python",
   "pygments_lexer": "ipython2",
   "version": "2.7.6"
  }
 },
 "nbformat": 4,
 "nbformat_minor": 5
}
